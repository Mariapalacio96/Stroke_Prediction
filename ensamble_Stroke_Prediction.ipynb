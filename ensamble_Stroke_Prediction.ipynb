{
 "cells": [
  {
   "cell_type": "code",
   "execution_count": 2,
   "id": "c9f8f88e",
   "metadata": {},
   "outputs": [],
   "source": [
    "import warnings\n",
    "warnings.filterwarnings('ignore')"
   ]
  },
  {
   "cell_type": "code",
   "execution_count": 3,
   "id": "059fe7df",
   "metadata": {},
   "outputs": [],
   "source": [
    "import numpy as np\n",
    "import pandas as pd\n",
    "from pathlib import Path\n",
    "from collections import Counter"
   ]
  },
  {
   "cell_type": "code",
   "execution_count": 4,
   "id": "a7c88a81",
   "metadata": {},
   "outputs": [],
   "source": [
    "from sklearn.model_selection import train_test_split\n",
    "from imblearn.ensemble import BalancedRandomForestClassifier\n",
    "from sklearn.metrics import balanced_accuracy_score\n",
    "from sklearn.metrics import confusion_matrix\n",
    "from imblearn.metrics import classification_report_imbalanced\n",
    "from imblearn.ensemble import EasyEnsembleClassifier"
   ]
  },
  {
   "cell_type": "code",
   "execution_count": 5,
   "id": "96725751",
   "metadata": {},
   "outputs": [
    {
     "data": {
      "text/html": [
       "<div>\n",
       "<style scoped>\n",
       "    .dataframe tbody tr th:only-of-type {\n",
       "        vertical-align: middle;\n",
       "    }\n",
       "\n",
       "    .dataframe tbody tr th {\n",
       "        vertical-align: top;\n",
       "    }\n",
       "\n",
       "    .dataframe thead th {\n",
       "        text-align: right;\n",
       "    }\n",
       "</style>\n",
       "<table border=\"1\" class=\"dataframe\">\n",
       "  <thead>\n",
       "    <tr style=\"text-align: right;\">\n",
       "      <th></th>\n",
       "      <th>ID</th>\n",
       "      <th>Gender</th>\n",
       "      <th>Age</th>\n",
       "      <th>Hypertension</th>\n",
       "      <th>HeartDisease</th>\n",
       "      <th>EverMarried</th>\n",
       "      <th>Work</th>\n",
       "      <th>Residence</th>\n",
       "      <th>Glucose</th>\n",
       "      <th>BMI</th>\n",
       "      <th>Smoking</th>\n",
       "      <th>Stroke</th>\n",
       "    </tr>\n",
       "  </thead>\n",
       "  <tbody>\n",
       "    <tr>\n",
       "      <th>0</th>\n",
       "      <td>9046</td>\n",
       "      <td>Male</td>\n",
       "      <td>67.0</td>\n",
       "      <td>0</td>\n",
       "      <td>1</td>\n",
       "      <td>Yes</td>\n",
       "      <td>Private</td>\n",
       "      <td>Urban</td>\n",
       "      <td>228.69</td>\n",
       "      <td>36.6</td>\n",
       "      <td>formerly smoked</td>\n",
       "      <td>1</td>\n",
       "    </tr>\n",
       "    <tr>\n",
       "      <th>1</th>\n",
       "      <td>31112</td>\n",
       "      <td>Male</td>\n",
       "      <td>80.0</td>\n",
       "      <td>0</td>\n",
       "      <td>1</td>\n",
       "      <td>Yes</td>\n",
       "      <td>Private</td>\n",
       "      <td>Rural</td>\n",
       "      <td>105.92</td>\n",
       "      <td>32.5</td>\n",
       "      <td>never smoked</td>\n",
       "      <td>1</td>\n",
       "    </tr>\n",
       "    <tr>\n",
       "      <th>2</th>\n",
       "      <td>60182</td>\n",
       "      <td>Female</td>\n",
       "      <td>49.0</td>\n",
       "      <td>0</td>\n",
       "      <td>0</td>\n",
       "      <td>Yes</td>\n",
       "      <td>Private</td>\n",
       "      <td>Urban</td>\n",
       "      <td>171.23</td>\n",
       "      <td>34.4</td>\n",
       "      <td>smokes</td>\n",
       "      <td>1</td>\n",
       "    </tr>\n",
       "    <tr>\n",
       "      <th>3</th>\n",
       "      <td>1665</td>\n",
       "      <td>Female</td>\n",
       "      <td>79.0</td>\n",
       "      <td>1</td>\n",
       "      <td>0</td>\n",
       "      <td>Yes</td>\n",
       "      <td>Self-employed</td>\n",
       "      <td>Rural</td>\n",
       "      <td>174.12</td>\n",
       "      <td>24.0</td>\n",
       "      <td>never smoked</td>\n",
       "      <td>1</td>\n",
       "    </tr>\n",
       "    <tr>\n",
       "      <th>4</th>\n",
       "      <td>56669</td>\n",
       "      <td>Male</td>\n",
       "      <td>81.0</td>\n",
       "      <td>0</td>\n",
       "      <td>0</td>\n",
       "      <td>Yes</td>\n",
       "      <td>Private</td>\n",
       "      <td>Urban</td>\n",
       "      <td>186.21</td>\n",
       "      <td>29.0</td>\n",
       "      <td>formerly smoked</td>\n",
       "      <td>1</td>\n",
       "    </tr>\n",
       "  </tbody>\n",
       "</table>\n",
       "</div>"
      ],
      "text/plain": [
       "      ID  Gender   Age  Hypertension  HeartDisease EverMarried           Work  \\\n",
       "0   9046    Male  67.0             0             1         Yes        Private   \n",
       "1  31112    Male  80.0             0             1         Yes        Private   \n",
       "2  60182  Female  49.0             0             0         Yes        Private   \n",
       "3   1665  Female  79.0             1             0         Yes  Self-employed   \n",
       "4  56669    Male  81.0             0             0         Yes        Private   \n",
       "\n",
       "  Residence  Glucose   BMI          Smoking  Stroke  \n",
       "0     Urban   228.69  36.6  formerly smoked       1  \n",
       "1     Rural   105.92  32.5     never smoked       1  \n",
       "2     Urban   171.23  34.4           smokes       1  \n",
       "3     Rural   174.12  24.0     never smoked       1  \n",
       "4     Urban   186.21  29.0  formerly smoked       1  "
      ]
     },
     "execution_count": 5,
     "metadata": {},
     "output_type": "execute_result"
    }
   ],
   "source": [
    "stroke_df = pd.read_csv(\"Resources/stroke_cleaned.csv\")\n",
    "stroke_df.head()"
   ]
  },
  {
   "cell_type": "markdown",
   "id": "642b9768",
   "metadata": {},
   "source": [
    "# Split data into Training and Testing "
   ]
  },
  {
   "cell_type": "code",
   "execution_count": 7,
   "id": "a547bd58",
   "metadata": {},
   "outputs": [],
   "source": [
    "# Create our features\n",
    "X = stroke_df.drop(\"Stroke\", axis=1)\n",
    "X = pd.get_dummies(X)\n",
    "\n",
    "# Create our target\n",
    "y = stroke_df['Stroke']"
   ]
  },
  {
   "cell_type": "code",
   "execution_count": 8,
   "id": "769c2a2f",
   "metadata": {},
   "outputs": [
    {
     "data": {
      "text/html": [
       "<div>\n",
       "<style scoped>\n",
       "    .dataframe tbody tr th:only-of-type {\n",
       "        vertical-align: middle;\n",
       "    }\n",
       "\n",
       "    .dataframe tbody tr th {\n",
       "        vertical-align: top;\n",
       "    }\n",
       "\n",
       "    .dataframe thead th {\n",
       "        text-align: right;\n",
       "    }\n",
       "</style>\n",
       "<table border=\"1\" class=\"dataframe\">\n",
       "  <thead>\n",
       "    <tr style=\"text-align: right;\">\n",
       "      <th></th>\n",
       "      <th>ID</th>\n",
       "      <th>Age</th>\n",
       "      <th>Hypertension</th>\n",
       "      <th>HeartDisease</th>\n",
       "      <th>Glucose</th>\n",
       "      <th>BMI</th>\n",
       "      <th>Gender_Female</th>\n",
       "      <th>Gender_Male</th>\n",
       "      <th>EverMarried_No</th>\n",
       "      <th>EverMarried_Yes</th>\n",
       "      <th>...</th>\n",
       "      <th>Work_Never_worked</th>\n",
       "      <th>Work_Private</th>\n",
       "      <th>Work_Self-employed</th>\n",
       "      <th>Work_children</th>\n",
       "      <th>Residence_Rural</th>\n",
       "      <th>Residence_Urban</th>\n",
       "      <th>Smoking_Unknown</th>\n",
       "      <th>Smoking_formerly smoked</th>\n",
       "      <th>Smoking_never smoked</th>\n",
       "      <th>Smoking_smokes</th>\n",
       "    </tr>\n",
       "  </thead>\n",
       "  <tbody>\n",
       "    <tr>\n",
       "      <th>count</th>\n",
       "      <td>4908.000000</td>\n",
       "      <td>4908.000000</td>\n",
       "      <td>4908.000000</td>\n",
       "      <td>4908.000000</td>\n",
       "      <td>4908.000000</td>\n",
       "      <td>4908.00000</td>\n",
       "      <td>4908.000000</td>\n",
       "      <td>4908.000000</td>\n",
       "      <td>4908.000000</td>\n",
       "      <td>4908.000000</td>\n",
       "      <td>...</td>\n",
       "      <td>4908.000000</td>\n",
       "      <td>4908.000000</td>\n",
       "      <td>4908.000000</td>\n",
       "      <td>4908.000000</td>\n",
       "      <td>4908.000000</td>\n",
       "      <td>4908.000000</td>\n",
       "      <td>4908.000000</td>\n",
       "      <td>4908.000000</td>\n",
       "      <td>4908.000000</td>\n",
       "      <td>4908.000000</td>\n",
       "    </tr>\n",
       "    <tr>\n",
       "      <th>mean</th>\n",
       "      <td>37060.423594</td>\n",
       "      <td>42.868989</td>\n",
       "      <td>0.091891</td>\n",
       "      <td>0.049511</td>\n",
       "      <td>105.297402</td>\n",
       "      <td>28.89456</td>\n",
       "      <td>0.590261</td>\n",
       "      <td>0.409739</td>\n",
       "      <td>0.347188</td>\n",
       "      <td>0.652812</td>\n",
       "      <td>...</td>\n",
       "      <td>0.004482</td>\n",
       "      <td>0.572535</td>\n",
       "      <td>0.157905</td>\n",
       "      <td>0.136716</td>\n",
       "      <td>0.492665</td>\n",
       "      <td>0.507335</td>\n",
       "      <td>0.302160</td>\n",
       "      <td>0.170334</td>\n",
       "      <td>0.377343</td>\n",
       "      <td>0.150163</td>\n",
       "    </tr>\n",
       "    <tr>\n",
       "      <th>std</th>\n",
       "      <td>20995.468407</td>\n",
       "      <td>22.555878</td>\n",
       "      <td>0.288901</td>\n",
       "      <td>0.216954</td>\n",
       "      <td>44.425550</td>\n",
       "      <td>7.85432</td>\n",
       "      <td>0.491836</td>\n",
       "      <td>0.491836</td>\n",
       "      <td>0.476125</td>\n",
       "      <td>0.476125</td>\n",
       "      <td>...</td>\n",
       "      <td>0.066808</td>\n",
       "      <td>0.494761</td>\n",
       "      <td>0.364689</td>\n",
       "      <td>0.343582</td>\n",
       "      <td>0.499997</td>\n",
       "      <td>0.499997</td>\n",
       "      <td>0.459241</td>\n",
       "      <td>0.375964</td>\n",
       "      <td>0.484771</td>\n",
       "      <td>0.357268</td>\n",
       "    </tr>\n",
       "    <tr>\n",
       "      <th>min</th>\n",
       "      <td>77.000000</td>\n",
       "      <td>0.000000</td>\n",
       "      <td>0.000000</td>\n",
       "      <td>0.000000</td>\n",
       "      <td>55.120000</td>\n",
       "      <td>10.30000</td>\n",
       "      <td>0.000000</td>\n",
       "      <td>0.000000</td>\n",
       "      <td>0.000000</td>\n",
       "      <td>0.000000</td>\n",
       "      <td>...</td>\n",
       "      <td>0.000000</td>\n",
       "      <td>0.000000</td>\n",
       "      <td>0.000000</td>\n",
       "      <td>0.000000</td>\n",
       "      <td>0.000000</td>\n",
       "      <td>0.000000</td>\n",
       "      <td>0.000000</td>\n",
       "      <td>0.000000</td>\n",
       "      <td>0.000000</td>\n",
       "      <td>0.000000</td>\n",
       "    </tr>\n",
       "    <tr>\n",
       "      <th>25%</th>\n",
       "      <td>18602.500000</td>\n",
       "      <td>25.000000</td>\n",
       "      <td>0.000000</td>\n",
       "      <td>0.000000</td>\n",
       "      <td>77.067500</td>\n",
       "      <td>23.50000</td>\n",
       "      <td>0.000000</td>\n",
       "      <td>0.000000</td>\n",
       "      <td>0.000000</td>\n",
       "      <td>0.000000</td>\n",
       "      <td>...</td>\n",
       "      <td>0.000000</td>\n",
       "      <td>0.000000</td>\n",
       "      <td>0.000000</td>\n",
       "      <td>0.000000</td>\n",
       "      <td>0.000000</td>\n",
       "      <td>0.000000</td>\n",
       "      <td>0.000000</td>\n",
       "      <td>0.000000</td>\n",
       "      <td>0.000000</td>\n",
       "      <td>0.000000</td>\n",
       "    </tr>\n",
       "    <tr>\n",
       "      <th>50%</th>\n",
       "      <td>37580.500000</td>\n",
       "      <td>44.000000</td>\n",
       "      <td>0.000000</td>\n",
       "      <td>0.000000</td>\n",
       "      <td>91.680000</td>\n",
       "      <td>28.10000</td>\n",
       "      <td>1.000000</td>\n",
       "      <td>0.000000</td>\n",
       "      <td>0.000000</td>\n",
       "      <td>1.000000</td>\n",
       "      <td>...</td>\n",
       "      <td>0.000000</td>\n",
       "      <td>1.000000</td>\n",
       "      <td>0.000000</td>\n",
       "      <td>0.000000</td>\n",
       "      <td>0.000000</td>\n",
       "      <td>1.000000</td>\n",
       "      <td>0.000000</td>\n",
       "      <td>0.000000</td>\n",
       "      <td>0.000000</td>\n",
       "      <td>0.000000</td>\n",
       "    </tr>\n",
       "    <tr>\n",
       "      <th>75%</th>\n",
       "      <td>55181.750000</td>\n",
       "      <td>60.000000</td>\n",
       "      <td>0.000000</td>\n",
       "      <td>0.000000</td>\n",
       "      <td>113.495000</td>\n",
       "      <td>33.10000</td>\n",
       "      <td>1.000000</td>\n",
       "      <td>1.000000</td>\n",
       "      <td>1.000000</td>\n",
       "      <td>1.000000</td>\n",
       "      <td>...</td>\n",
       "      <td>0.000000</td>\n",
       "      <td>1.000000</td>\n",
       "      <td>0.000000</td>\n",
       "      <td>0.000000</td>\n",
       "      <td>1.000000</td>\n",
       "      <td>1.000000</td>\n",
       "      <td>1.000000</td>\n",
       "      <td>0.000000</td>\n",
       "      <td>1.000000</td>\n",
       "      <td>0.000000</td>\n",
       "    </tr>\n",
       "    <tr>\n",
       "      <th>max</th>\n",
       "      <td>72940.000000</td>\n",
       "      <td>82.000000</td>\n",
       "      <td>1.000000</td>\n",
       "      <td>1.000000</td>\n",
       "      <td>271.740000</td>\n",
       "      <td>97.60000</td>\n",
       "      <td>1.000000</td>\n",
       "      <td>1.000000</td>\n",
       "      <td>1.000000</td>\n",
       "      <td>1.000000</td>\n",
       "      <td>...</td>\n",
       "      <td>1.000000</td>\n",
       "      <td>1.000000</td>\n",
       "      <td>1.000000</td>\n",
       "      <td>1.000000</td>\n",
       "      <td>1.000000</td>\n",
       "      <td>1.000000</td>\n",
       "      <td>1.000000</td>\n",
       "      <td>1.000000</td>\n",
       "      <td>1.000000</td>\n",
       "      <td>1.000000</td>\n",
       "    </tr>\n",
       "  </tbody>\n",
       "</table>\n",
       "<p>8 rows × 21 columns</p>\n",
       "</div>"
      ],
      "text/plain": [
       "                 ID          Age  Hypertension  HeartDisease      Glucose  \\\n",
       "count   4908.000000  4908.000000   4908.000000   4908.000000  4908.000000   \n",
       "mean   37060.423594    42.868989      0.091891      0.049511   105.297402   \n",
       "std    20995.468407    22.555878      0.288901      0.216954    44.425550   \n",
       "min       77.000000     0.000000      0.000000      0.000000    55.120000   \n",
       "25%    18602.500000    25.000000      0.000000      0.000000    77.067500   \n",
       "50%    37580.500000    44.000000      0.000000      0.000000    91.680000   \n",
       "75%    55181.750000    60.000000      0.000000      0.000000   113.495000   \n",
       "max    72940.000000    82.000000      1.000000      1.000000   271.740000   \n",
       "\n",
       "              BMI  Gender_Female  Gender_Male  EverMarried_No  \\\n",
       "count  4908.00000    4908.000000  4908.000000     4908.000000   \n",
       "mean     28.89456       0.590261     0.409739        0.347188   \n",
       "std       7.85432       0.491836     0.491836        0.476125   \n",
       "min      10.30000       0.000000     0.000000        0.000000   \n",
       "25%      23.50000       0.000000     0.000000        0.000000   \n",
       "50%      28.10000       1.000000     0.000000        0.000000   \n",
       "75%      33.10000       1.000000     1.000000        1.000000   \n",
       "max      97.60000       1.000000     1.000000        1.000000   \n",
       "\n",
       "       EverMarried_Yes  ...  Work_Never_worked  Work_Private  \\\n",
       "count      4908.000000  ...        4908.000000   4908.000000   \n",
       "mean          0.652812  ...           0.004482      0.572535   \n",
       "std           0.476125  ...           0.066808      0.494761   \n",
       "min           0.000000  ...           0.000000      0.000000   \n",
       "25%           0.000000  ...           0.000000      0.000000   \n",
       "50%           1.000000  ...           0.000000      1.000000   \n",
       "75%           1.000000  ...           0.000000      1.000000   \n",
       "max           1.000000  ...           1.000000      1.000000   \n",
       "\n",
       "       Work_Self-employed  Work_children  Residence_Rural  Residence_Urban  \\\n",
       "count         4908.000000    4908.000000      4908.000000      4908.000000   \n",
       "mean             0.157905       0.136716         0.492665         0.507335   \n",
       "std              0.364689       0.343582         0.499997         0.499997   \n",
       "min              0.000000       0.000000         0.000000         0.000000   \n",
       "25%              0.000000       0.000000         0.000000         0.000000   \n",
       "50%              0.000000       0.000000         0.000000         1.000000   \n",
       "75%              0.000000       0.000000         1.000000         1.000000   \n",
       "max              1.000000       1.000000         1.000000         1.000000   \n",
       "\n",
       "       Smoking_Unknown  Smoking_formerly smoked  Smoking_never smoked  \\\n",
       "count      4908.000000              4908.000000           4908.000000   \n",
       "mean          0.302160                 0.170334              0.377343   \n",
       "std           0.459241                 0.375964              0.484771   \n",
       "min           0.000000                 0.000000              0.000000   \n",
       "25%           0.000000                 0.000000              0.000000   \n",
       "50%           0.000000                 0.000000              0.000000   \n",
       "75%           1.000000                 0.000000              1.000000   \n",
       "max           1.000000                 1.000000              1.000000   \n",
       "\n",
       "       Smoking_smokes  \n",
       "count     4908.000000  \n",
       "mean         0.150163  \n",
       "std          0.357268  \n",
       "min          0.000000  \n",
       "25%          0.000000  \n",
       "50%          0.000000  \n",
       "75%          0.000000  \n",
       "max          1.000000  \n",
       "\n",
       "[8 rows x 21 columns]"
      ]
     },
     "execution_count": 8,
     "metadata": {},
     "output_type": "execute_result"
    }
   ],
   "source": [
    "X.describe()"
   ]
  },
  {
   "cell_type": "code",
   "execution_count": 9,
   "id": "eb52f7c0",
   "metadata": {},
   "outputs": [
    {
     "data": {
      "text/plain": [
       "0    4699\n",
       "1     209\n",
       "Name: Stroke, dtype: int64"
      ]
     },
     "execution_count": 9,
     "metadata": {},
     "output_type": "execute_result"
    }
   ],
   "source": [
    "# Check the balance of our target values\n",
    "y.value_counts()"
   ]
  },
  {
   "cell_type": "code",
   "execution_count": 11,
   "id": "21eab505",
   "metadata": {},
   "outputs": [],
   "source": [
    "X_train, X_test, y_train, y_test = train_test_split(X, y, random_state=1, stratify=y)"
   ]
  },
  {
   "cell_type": "markdown",
   "id": "45c19fe9",
   "metadata": {},
   "source": [
    "# Ensemble Learners"
   ]
  },
  {
   "cell_type": "code",
   "execution_count": 12,
   "id": "9e8db2d1",
   "metadata": {},
   "outputs": [
    {
     "data": {
      "text/plain": [
       "BalancedRandomForestClassifier()"
      ]
     },
     "execution_count": 12,
     "metadata": {},
     "output_type": "execute_result"
    }
   ],
   "source": [
    "# Resample the training data with the BalancedRandomForestClassifier\n",
    "Balance_random_forest = BalancedRandomForestClassifier(n_estimators = 100)\n",
    "Balance_random_forest.fit(X_train, y_train)"
   ]
  },
  {
   "cell_type": "code",
   "execution_count": 13,
   "id": "04ea8990",
   "metadata": {},
   "outputs": [
    {
     "data": {
      "text/plain": [
       "0.764860883797054"
      ]
     },
     "execution_count": 13,
     "metadata": {},
     "output_type": "execute_result"
    }
   ],
   "source": [
    "# Calculated the balanced accuracy score\n",
    "y_pred = Balance_random_forest.predict(X_test)\n",
    "balanced_accuracy_score(y_test, y_pred)"
   ]
  },
  {
   "cell_type": "code",
   "execution_count": 14,
   "id": "673a0cfc",
   "metadata": {},
   "outputs": [
    {
     "data": {
      "text/plain": [
       "array([[758, 417],\n",
       "       [  6,  46]])"
      ]
     },
     "execution_count": 14,
     "metadata": {},
     "output_type": "execute_result"
    }
   ],
   "source": [
    "# Display the confusion matrix\n",
    "confusion_matrix(y_test, y_pred)"
   ]
  },
  {
   "cell_type": "code",
   "execution_count": 15,
   "id": "fb86b542",
   "metadata": {},
   "outputs": [
    {
     "name": "stdout",
     "output_type": "stream",
     "text": [
      "                   pre       rec       spe        f1       geo       iba       sup\n",
      "\n",
      "          0       0.99      0.65      0.88      0.78      0.76      0.56      1175\n",
      "          1       0.10      0.88      0.65      0.18      0.76      0.58        52\n",
      "\n",
      "avg / total       0.95      0.66      0.87      0.76      0.76      0.56      1227\n",
      "\n"
     ]
    }
   ],
   "source": [
    "# Print the imbalanced classification report\n",
    "print(classification_report_imbalanced(y_test, y_pred))"
   ]
  },
  {
   "cell_type": "code",
   "execution_count": 16,
   "id": "f70e9655",
   "metadata": {},
   "outputs": [
    {
     "data": {
      "text/plain": [
       "[(0.3147893275977494, 'Age'),\n",
       " (0.14457623651190848, 'Glucose'),\n",
       " (0.11856530667072376, 'ID'),\n",
       " (0.11799178147535311, 'BMI'),\n",
       " (0.03301708861991399, 'EverMarried_Yes'),\n",
       " (0.03232077930790638, 'Hypertension'),\n",
       " (0.025966518131473278, 'HeartDisease'),\n",
       " (0.022589838383750067, 'Smoking_Unknown'),\n",
       " (0.01955317453877312, 'Smoking_formerly smoked'),\n",
       " (0.01887935519762196, 'EverMarried_No'),\n",
       " (0.018463502412169992, 'Residence_Rural'),\n",
       " (0.018435353107690906, 'Smoking_never smoked'),\n",
       " (0.016452114130132967, 'Work_Private'),\n",
       " (0.015918908489667233, 'Gender_Male'),\n",
       " (0.015627870414086205, 'Gender_Female'),\n",
       " (0.015168945222231282, 'Smoking_smokes'),\n",
       " (0.01497820175028991, 'Work_Self-employed'),\n",
       " (0.014660911296336598, 'Residence_Urban'),\n",
       " (0.011532210957084505, 'Work_children'),\n",
       " (0.010497399185411656, 'Work_Govt_job'),\n",
       " (1.5176599725202212e-05, 'Work_Never_worked')]"
      ]
     },
     "execution_count": 16,
     "metadata": {},
     "output_type": "execute_result"
    }
   ],
   "source": [
    "# List the features sorted in descending order by feature importance\n",
    "featureNames = X.columns\n",
    "sorted(zip(Balance_random_forest.feature_importances_, X.columns), reverse=True)"
   ]
  },
  {
   "cell_type": "markdown",
   "id": "58242e58",
   "metadata": {},
   "source": [
    "# Easy Ensemble AdaBoost Classifier"
   ]
  },
  {
   "cell_type": "code",
   "execution_count": 17,
   "id": "08eb5b90",
   "metadata": {},
   "outputs": [
    {
     "data": {
      "text/plain": [
       "EasyEnsembleClassifier(n_estimators=100, random_state=1)"
      ]
     },
     "execution_count": 17,
     "metadata": {},
     "output_type": "execute_result"
    }
   ],
   "source": [
    "# Train the EasyEnsembleClassifier\n",
    "easy_ensemble = EasyEnsembleClassifier(n_estimators = 100,random_state=1)\n",
    "easy_ensemble.fit(X_train, y_train)"
   ]
  },
  {
   "cell_type": "code",
   "execution_count": 18,
   "id": "629e7086",
   "metadata": {},
   "outputs": [
    {
     "data": {
      "text/plain": [
       "0.7431587561374795"
      ]
     },
     "execution_count": 18,
     "metadata": {},
     "output_type": "execute_result"
    }
   ],
   "source": [
    "# Calculated the balanced accuracy score\n",
    "y_pred = easy_ensemble.predict(X_test)\n",
    "balanced_accuracy_score(y_test, y_pred)"
   ]
  },
  {
   "cell_type": "code",
   "execution_count": 19,
   "id": "17db876e",
   "metadata": {},
   "outputs": [
    {
     "data": {
      "text/plain": [
       "array([[707, 468],\n",
       "       [  6,  46]])"
      ]
     },
     "execution_count": 19,
     "metadata": {},
     "output_type": "execute_result"
    }
   ],
   "source": [
    "# Display the confusion matrix\n",
    "confusion_matrix(y_test, y_pred)"
   ]
  },
  {
   "cell_type": "code",
   "execution_count": 20,
   "id": "0e86c219",
   "metadata": {},
   "outputs": [
    {
     "name": "stdout",
     "output_type": "stream",
     "text": [
      "                   pre       rec       spe        f1       geo       iba       sup\n",
      "\n",
      "          0       0.99      0.60      0.88      0.75      0.73      0.52      1175\n",
      "          1       0.09      0.88      0.60      0.16      0.73      0.55        52\n",
      "\n",
      "avg / total       0.95      0.61      0.87      0.72      0.73      0.52      1227\n",
      "\n"
     ]
    }
   ],
   "source": [
    "# Print the imbalanced classification report\n",
    "print(classification_report_imbalanced(y_test, y_pred))"
   ]
  },
  {
   "cell_type": "code",
   "execution_count": null,
   "id": "a5d30d8e",
   "metadata": {},
   "outputs": [],
   "source": []
  }
 ],
 "metadata": {
  "kernelspec": {
   "display_name": "mlenv",
   "language": "python",
   "name": "mlenv"
  },
  "language_info": {
   "codemirror_mode": {
    "name": "ipython",
    "version": 3
   },
   "file_extension": ".py",
   "mimetype": "text/x-python",
   "name": "python",
   "nbconvert_exporter": "python",
   "pygments_lexer": "ipython3",
   "version": "3.7.11"
  }
 },
 "nbformat": 4,
 "nbformat_minor": 5
}
